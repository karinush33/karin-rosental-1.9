{
 "cells": [
  {
   "cell_type": "code",
   "execution_count": 1,
   "id": "fdd28ef1-2292-4884-80c1-3eb3648f5505",
   "metadata": {},
   "outputs": [
    {
     "name": "stdout",
     "output_type": "stream",
     "text": [
      "      Name  Age  Salary Department\n",
      "0    Alice   25   50000         HR\n",
      "1      Bob   30   60000         IT\n",
      "2  Charlie   35   75000    Finance\n",
      "3    Diana   28   62000         IT\n",
      "4     Evan   40   80000         HR\n"
     ]
    }
   ],
   "source": [
    "import pandas as pd\n",
    "\n",
    "data = {\n",
    "    \"Name\": [\"Alice\", \"Bob\", \"Charlie\", \"Diana\", \"Evan\"],\n",
    "    \"Age\": [25, 30, 35, 28, 40],\n",
    "    \"Salary\": [50000, 60000, 75000, 62000, 80000],\n",
    "    \"Department\": [\"HR\", \"IT\", \"Finance\", \"IT\", \"HR\"]\n",
    "}\n",
    "df = pd.DataFrame(data)\n",
    "print(df)"
   ]
  },
  {
   "cell_type": "code",
   "execution_count": 13,
   "id": "e08b176b-bb07-4cbd-b4b6-945e74f68813",
   "metadata": {},
   "outputs": [
    {
     "name": "stdout",
     "output_type": "stream",
     "text": [
      "      Name  Age  Salary Department   bonus\n",
      "0    Alice   25   50000         HR  5000.0\n",
      "1      Bob   30   60000         IT  6000.0\n",
      "2  Charlie   35   75000    Finance  7500.0 [0, 2]\n"
     ]
    }
   ],
   "source": [
    "# Get the first 3 rows and only the Name and Salary columns\n",
    "print(df.iloc[0:3],[0,2])"
   ]
  },
  {
   "cell_type": "code",
   "execution_count": 4,
   "id": "6ab6522b-786f-4db9-b0d9-b67379c2f84e",
   "metadata": {},
   "outputs": [
    {
     "name": "stdout",
     "output_type": "stream",
     "text": [
      "      Name  Age  Salary Department   bonus\n",
      "0    Alice   25   50000         HR  5000.0\n",
      "1      Bob   30   60000         IT  6000.0\n",
      "2  Charlie   35   75000    Finance  7500.0\n",
      "3    Diana   28   62000         IT  6200.0\n",
      "4     Evan   40   80000         HR  8000.0\n"
     ]
    }
   ],
   "source": [
    "# Create a column Bonus that is 10% of the Salary\n",
    "df['bonus']= 0.1* df['salary']\n",
    "print(df)"
   ]
  },
  {
   "cell_type": "code",
   "execution_count": 5,
   "id": "58e72929-11ed-4093-af46-bb5391ab43ad",
   "metadata": {},
   "outputs": [
    {
     "name": "stdout",
     "output_type": "stream",
     "text": [
      "         Age  Salary Department   bonus\n",
      "Name                                   \n",
      "Alice     25   50000         HR  5000.0\n",
      "Bob       30   60000         IT  6000.0\n",
      "Charlie   35   75000    Finance  7500.0\n",
      "Diana     28   62000         IT  6200.0\n",
      "Evan      40   80000         HR  8000.0\n"
     ]
    }
   ],
   "source": [
    "# Set the Name column as the new index\n",
    "df.set_index('Name', inplace=True)\n",
    "print(df.head())"
   ]
  },
  {
   "cell_type": "code",
   "execution_count": 6,
   "id": "1a605432-d535-4a1a-920d-50a139571802",
   "metadata": {},
   "outputs": [
    {
     "name": "stdout",
     "output_type": "stream",
     "text": [
      "         Salary Department\n",
      "Name                      \n",
      "Bob       60000         IT\n",
      "Charlie   75000    Finance\n",
      "Diana     62000         IT\n"
     ]
    }
   ],
   "source": [
    "# Display all rows from Bob to Diana and only Salary and Department columns\n",
    "print(df.loc['Bob':'Diana', ['Salary', 'Department']])"
   ]
  },
  {
   "cell_type": "code",
   "execution_count": 7,
   "id": "7f535741-e385-42ff-8fe6-aac32cb71806",
   "metadata": {},
   "outputs": [
    {
     "name": "stdout",
     "output_type": "stream",
     "text": [
      "      Name  Age  Salary Department   bonus\n",
      "0    Alice   25   50000         HR  5000.0\n",
      "1      Bob   30   60000         IT  6000.0\n",
      "2  Charlie   35   75000    Finance  7500.0\n",
      "3    Diana   28   62000         IT  6200.0\n",
      "4     Evan   40   80000         HR  8000.0\n"
     ]
    }
   ],
   "source": [
    "# Then reset it back to the default numeric index\n",
    "df.reset_index(inplace=True)\n",
    "print(df.head())"
   ]
  },
  {
   "cell_type": "code",
   "execution_count": null,
   "id": "2e8cbde0-f3ff-49b3-b92f-45b7b3c7f163",
   "metadata": {},
   "outputs": [],
   "source": []
  }
 ],
 "metadata": {
  "kernelspec": {
   "display_name": "Python 3 (ipykernel)",
   "language": "python",
   "name": "python3"
  },
  "language_info": {
   "codemirror_mode": {
    "name": "ipython",
    "version": 3
   },
   "file_extension": ".py",
   "mimetype": "text/x-python",
   "name": "python",
   "nbconvert_exporter": "python",
   "pygments_lexer": "ipython3",
   "version": "3.13.7"
  }
 },
 "nbformat": 4,
 "nbformat_minor": 5
}
